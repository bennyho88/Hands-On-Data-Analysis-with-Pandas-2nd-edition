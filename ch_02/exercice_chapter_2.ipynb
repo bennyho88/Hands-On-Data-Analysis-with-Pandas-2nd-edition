{
 "cells": [
  {
   "cell_type": "code",
   "execution_count": 1,
   "id": "57a23e71",
   "metadata": {},
   "outputs": [],
   "source": [
    "import pandas as pd"
   ]
  },
  {
   "cell_type": "code",
   "execution_count": 2,
   "id": "f6c86ef5",
   "metadata": {},
   "outputs": [],
   "source": [
    "df = pd.read_csv('data/parsed.csv')"
   ]
  },
  {
   "cell_type": "markdown",
   "id": "88868672",
   "metadata": {},
   "source": [
    "1. Find the 95th percentile of earthquake magnitude in Japan using the mb magnitude type."
   ]
  },
  {
   "cell_type": "code",
   "execution_count": null,
   "id": "487a2e00",
   "metadata": {},
   "outputs": [],
   "source": []
  },
  {
   "cell_type": "markdown",
   "id": "f6c505d5",
   "metadata": {},
   "source": [
    "2. Find the percentage of earthquakes in Indonesia that were coupled with tsunamis."
   ]
  },
  {
   "cell_type": "code",
   "execution_count": null,
   "id": "d430fad8",
   "metadata": {},
   "outputs": [],
   "source": []
  },
  {
   "cell_type": "markdown",
   "id": "f3a98c0a",
   "metadata": {},
   "source": [
    "3. Calculate summary statistics for earthquakes in Nevada"
   ]
  },
  {
   "cell_type": "code",
   "execution_count": null,
   "id": "2d6b9f1a",
   "metadata": {},
   "outputs": [],
   "source": []
  },
  {
   "cell_type": "markdown",
   "id": "b3ae4c6f",
   "metadata": {},
   "source": [
    "3. Calculate summary statistics for earthquakes in Nevada"
   ]
  },
  {
   "cell_type": "code",
   "execution_count": null,
   "id": "1f2997ab",
   "metadata": {},
   "outputs": [],
   "source": []
  },
  {
   "cell_type": "markdown",
   "id": "72c73283",
   "metadata": {},
   "source": [
    "5. Calculate the number of earthquakes in the Ring of Fire locations and the number \n",
    "outside of them"
   ]
  },
  {
   "cell_type": "code",
   "execution_count": null,
   "id": "2706e828",
   "metadata": {},
   "outputs": [],
   "source": []
  },
  {
   "cell_type": "markdown",
   "id": "379c14d4",
   "metadata": {},
   "source": [
    "6. Find the tsunami count along the Ring of Fire."
   ]
  },
  {
   "cell_type": "code",
   "execution_count": null,
   "id": "82c88bdd",
   "metadata": {},
   "outputs": [],
   "source": []
  }
 ],
 "metadata": {
  "kernelspec": {
   "display_name": "Python 3",
   "language": "python",
   "name": "python3"
  },
  "language_info": {
   "codemirror_mode": {
    "name": "ipython",
    "version": 3
   },
   "file_extension": ".py",
   "mimetype": "text/x-python",
   "name": "python",
   "nbconvert_exporter": "python",
   "pygments_lexer": "ipython3",
   "version": "3.8.8"
  }
 },
 "nbformat": 4,
 "nbformat_minor": 5
}
